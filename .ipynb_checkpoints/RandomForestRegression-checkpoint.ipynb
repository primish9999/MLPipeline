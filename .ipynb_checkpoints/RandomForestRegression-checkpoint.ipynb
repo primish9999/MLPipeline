{
 "cells": [
  {
   "cell_type": "code",
   "execution_count": 120,
   "metadata": {},
   "outputs": [],
   "source": [
    "import pandas as pd\n",
    "import os\n",
    "import biom\n",
    "import numpy as np\n",
    "from sklearn.model_selection import train_test_split\n",
    "import matplotlib.pyplot as plt\n",
    "from sklearn.ensemble import RandomForestRegressor\n",
    "from sklearn.datasets import make_regression\n",
    "\n",
    "import seaborn as sns\n",
    "import matplotlib.pyplot as plt\n",
    "%matplotlib inline"
   ]
  },
  {
   "cell_type": "markdown",
   "metadata": {},
   "source": [
    "### Load the metadata table"
   ]
  },
  {
   "cell_type": "code",
   "execution_count": 131,
   "metadata": {},
   "outputs": [],
   "source": [
    "target_field='Pectins_in_g'"
   ]
  },
  {
   "cell_type": "code",
   "execution_count": 78,
   "metadata": {},
   "outputs": [
    {
     "data": {
      "text/html": [
       "<div>\n",
       "<style scoped>\n",
       "    .dataframe tbody tr th:only-of-type {\n",
       "        vertical-align: middle;\n",
       "    }\n",
       "\n",
       "    .dataframe tbody tr th {\n",
       "        vertical-align: top;\n",
       "    }\n",
       "\n",
       "    .dataframe thead th {\n",
       "        text-align: right;\n",
       "    }\n",
       "</style>\n",
       "<table border=\"1\" class=\"dataframe\">\n",
       "  <thead>\n",
       "    <tr style=\"text-align: right;\">\n",
       "      <th></th>\n",
       "      <th>#SampleID</th>\n",
       "      <th>survey_id</th>\n",
       "      <th>3_Methylhistidine_in_mg</th>\n",
       "      <th>Acesulfame_Potassium_in_mg</th>\n",
       "      <th>Added_Sugars__by_Available_Carbohydrate__in_g</th>\n",
       "      <th>Added_Sugars__by_Total_Sugars__in_g</th>\n",
       "      <th>Alanine_in_g</th>\n",
       "      <th>Alcohol_in_g</th>\n",
       "      <th>Alpha_Carotene__provitamin_A_carotenoid__in_mcg</th>\n",
       "      <th>Alpha_Tocopherol_in_mg</th>\n",
       "      <th>...</th>\n",
       "      <th>Vitamin_D__calciferol__in_mcg</th>\n",
       "      <th>Vitamin_D2__ergocalciferol__in_mcg</th>\n",
       "      <th>Vitamin_D3__cholecalciferol__in_mcg</th>\n",
       "      <th>Vitamin_D_in_IU</th>\n",
       "      <th>Vitamin_E_in_IU</th>\n",
       "      <th>Vitamin_K__phylloquinone__in_mcg</th>\n",
       "      <th>Water_in_g</th>\n",
       "      <th>Whole_Grains__ounce_equivalents__in_oz_eq</th>\n",
       "      <th>Xylitol_in_g</th>\n",
       "      <th>Zinc_in_mg</th>\n",
       "    </tr>\n",
       "  </thead>\n",
       "  <tbody>\n",
       "    <tr>\n",
       "      <th>0</th>\n",
       "      <td>10317.000072</td>\n",
       "      <td>0000904d9779a86c</td>\n",
       "      <td>27.174737</td>\n",
       "      <td>0.0</td>\n",
       "      <td>13.456264</td>\n",
       "      <td>12.412006</td>\n",
       "      <td>5.514891</td>\n",
       "      <td>12.334931</td>\n",
       "      <td>1138.369337</td>\n",
       "      <td>28.570243</td>\n",
       "      <td>...</td>\n",
       "      <td>12.474296</td>\n",
       "      <td>0.200217</td>\n",
       "      <td>12.274079</td>\n",
       "      <td>498.971831</td>\n",
       "      <td>50.945946</td>\n",
       "      <td>224.194888</td>\n",
       "      <td>2149.699640</td>\n",
       "      <td>0.617645</td>\n",
       "      <td>0.036749</td>\n",
       "      <td>12.883731</td>\n",
       "    </tr>\n",
       "    <tr>\n",
       "      <th>1</th>\n",
       "      <td>10317.000108</td>\n",
       "      <td>000fc7ac57776579</td>\n",
       "      <td>28.296296</td>\n",
       "      <td>0.0</td>\n",
       "      <td>12.525882</td>\n",
       "      <td>11.648395</td>\n",
       "      <td>6.428279</td>\n",
       "      <td>0.000000</td>\n",
       "      <td>3101.366412</td>\n",
       "      <td>15.173522</td>\n",
       "      <td>...</td>\n",
       "      <td>8.934600</td>\n",
       "      <td>0.000000</td>\n",
       "      <td>8.934600</td>\n",
       "      <td>357.384016</td>\n",
       "      <td>22.639097</td>\n",
       "      <td>931.249354</td>\n",
       "      <td>3629.797713</td>\n",
       "      <td>0.431386</td>\n",
       "      <td>0.021156</td>\n",
       "      <td>14.626577</td>\n",
       "    </tr>\n",
       "    <tr>\n",
       "      <th>2</th>\n",
       "      <td>10317.000088</td>\n",
       "      <td>0012cf765bb386ea</td>\n",
       "      <td>18.271265</td>\n",
       "      <td>0.0</td>\n",
       "      <td>20.729649</td>\n",
       "      <td>15.873260</td>\n",
       "      <td>3.500579</td>\n",
       "      <td>0.000515</td>\n",
       "      <td>565.525633</td>\n",
       "      <td>15.836220</td>\n",
       "      <td>...</td>\n",
       "      <td>2.221692</td>\n",
       "      <td>0.000000</td>\n",
       "      <td>2.221692</td>\n",
       "      <td>88.867685</td>\n",
       "      <td>23.636017</td>\n",
       "      <td>162.853881</td>\n",
       "      <td>4291.305693</td>\n",
       "      <td>0.000000</td>\n",
       "      <td>0.023628</td>\n",
       "      <td>10.289681</td>\n",
       "    </tr>\n",
       "    <tr>\n",
       "      <th>3</th>\n",
       "      <td>10317.000031</td>\n",
       "      <td>001b4c3e1c848f58</td>\n",
       "      <td>2.606842</td>\n",
       "      <td>0.0</td>\n",
       "      <td>25.437240</td>\n",
       "      <td>20.476220</td>\n",
       "      <td>2.147886</td>\n",
       "      <td>17.794446</td>\n",
       "      <td>2840.690441</td>\n",
       "      <td>11.345113</td>\n",
       "      <td>...</td>\n",
       "      <td>3.581944</td>\n",
       "      <td>1.319242</td>\n",
       "      <td>2.262702</td>\n",
       "      <td>143.277757</td>\n",
       "      <td>16.909549</td>\n",
       "      <td>201.226018</td>\n",
       "      <td>3558.758279</td>\n",
       "      <td>1.694062</td>\n",
       "      <td>0.034244</td>\n",
       "      <td>8.100116</td>\n",
       "    </tr>\n",
       "    <tr>\n",
       "      <th>4</th>\n",
       "      <td>10317.000031</td>\n",
       "      <td>001b4c3e1c848f58</td>\n",
       "      <td>2.606842</td>\n",
       "      <td>0.0</td>\n",
       "      <td>25.437240</td>\n",
       "      <td>20.476220</td>\n",
       "      <td>2.147886</td>\n",
       "      <td>17.794446</td>\n",
       "      <td>2840.690441</td>\n",
       "      <td>11.345113</td>\n",
       "      <td>...</td>\n",
       "      <td>3.581944</td>\n",
       "      <td>1.319242</td>\n",
       "      <td>2.262702</td>\n",
       "      <td>143.277757</td>\n",
       "      <td>16.909549</td>\n",
       "      <td>201.226018</td>\n",
       "      <td>3558.758279</td>\n",
       "      <td>1.694062</td>\n",
       "      <td>0.034244</td>\n",
       "      <td>8.100116</td>\n",
       "    </tr>\n",
       "  </tbody>\n",
       "</table>\n",
       "<p>5 rows × 195 columns</p>\n",
       "</div>"
      ],
      "text/plain": [
       "      #SampleID         survey_id  3_Methylhistidine_in_mg  \\\n",
       "0  10317.000072  0000904d9779a86c                27.174737   \n",
       "1  10317.000108  000fc7ac57776579                28.296296   \n",
       "2  10317.000088  0012cf765bb386ea                18.271265   \n",
       "3  10317.000031  001b4c3e1c848f58                 2.606842   \n",
       "4  10317.000031  001b4c3e1c848f58                 2.606842   \n",
       "\n",
       "   Acesulfame_Potassium_in_mg  Added_Sugars__by_Available_Carbohydrate__in_g  \\\n",
       "0                         0.0                                      13.456264   \n",
       "1                         0.0                                      12.525882   \n",
       "2                         0.0                                      20.729649   \n",
       "3                         0.0                                      25.437240   \n",
       "4                         0.0                                      25.437240   \n",
       "\n",
       "   Added_Sugars__by_Total_Sugars__in_g  Alanine_in_g  Alcohol_in_g  \\\n",
       "0                            12.412006      5.514891     12.334931   \n",
       "1                            11.648395      6.428279      0.000000   \n",
       "2                            15.873260      3.500579      0.000515   \n",
       "3                            20.476220      2.147886     17.794446   \n",
       "4                            20.476220      2.147886     17.794446   \n",
       "\n",
       "   Alpha_Carotene__provitamin_A_carotenoid__in_mcg  Alpha_Tocopherol_in_mg  \\\n",
       "0                                      1138.369337               28.570243   \n",
       "1                                      3101.366412               15.173522   \n",
       "2                                       565.525633               15.836220   \n",
       "3                                      2840.690441               11.345113   \n",
       "4                                      2840.690441               11.345113   \n",
       "\n",
       "   ...  Vitamin_D__calciferol__in_mcg  Vitamin_D2__ergocalciferol__in_mcg  \\\n",
       "0  ...                      12.474296                            0.200217   \n",
       "1  ...                       8.934600                            0.000000   \n",
       "2  ...                       2.221692                            0.000000   \n",
       "3  ...                       3.581944                            1.319242   \n",
       "4  ...                       3.581944                            1.319242   \n",
       "\n",
       "   Vitamin_D3__cholecalciferol__in_mcg  Vitamin_D_in_IU  Vitamin_E_in_IU  \\\n",
       "0                            12.274079       498.971831        50.945946   \n",
       "1                             8.934600       357.384016        22.639097   \n",
       "2                             2.221692        88.867685        23.636017   \n",
       "3                             2.262702       143.277757        16.909549   \n",
       "4                             2.262702       143.277757        16.909549   \n",
       "\n",
       "   Vitamin_K__phylloquinone__in_mcg   Water_in_g  \\\n",
       "0                        224.194888  2149.699640   \n",
       "1                        931.249354  3629.797713   \n",
       "2                        162.853881  4291.305693   \n",
       "3                        201.226018  3558.758279   \n",
       "4                        201.226018  3558.758279   \n",
       "\n",
       "   Whole_Grains__ounce_equivalents__in_oz_eq  Xylitol_in_g  Zinc_in_mg  \n",
       "0                                   0.617645      0.036749   12.883731  \n",
       "1                                   0.431386      0.021156   14.626577  \n",
       "2                                   0.000000      0.023628   10.289681  \n",
       "3                                   1.694062      0.034244    8.100116  \n",
       "4                                   1.694062      0.034244    8.100116  \n",
       "\n",
       "[5 rows x 195 columns]"
      ]
     },
     "execution_count": 78,
     "metadata": {},
     "output_type": "execute_result"
    }
   ],
   "source": [
    "# Reading Metadata\n",
    "md=pd.read_csv('data/vioscreen_micromacro.tsv',sep='\\t') # index_col=1\n",
    "md.head()"
   ]
  },
  {
   "cell_type": "code",
   "execution_count": 79,
   "metadata": {},
   "outputs": [
    {
     "data": {
      "text/plain": [
       "(5019, 195)"
      ]
     },
     "execution_count": 79,
     "metadata": {},
     "output_type": "execute_result"
    }
   ],
   "source": [
    "md.shape"
   ]
  },
  {
   "cell_type": "code",
   "execution_count": 94,
   "metadata": {},
   "outputs": [
    {
     "data": {
      "text/plain": [
       "Index(['#SampleID', 'survey_id', '3_Methylhistidine_in_mg',\n",
       "       'Acesulfame_Potassium_in_mg',\n",
       "       'Added_Sugars__by_Available_Carbohydrate__in_g',\n",
       "       'Added_Sugars__by_Total_Sugars__in_g', 'Alanine_in_g', 'Alcohol_in_g',\n",
       "       'Alpha_Carotene__provitamin_A_carotenoid__in_mcg',\n",
       "       'Alpha_Tocopherol_in_mg',\n",
       "       ...\n",
       "       'Vitamin_D__calciferol__in_mcg', 'Vitamin_D2__ergocalciferol__in_mcg',\n",
       "       'Vitamin_D3__cholecalciferol__in_mcg', 'Vitamin_D_in_IU',\n",
       "       'Vitamin_E_in_IU', 'Vitamin_K__phylloquinone__in_mcg', 'Water_in_g',\n",
       "       'Whole_Grains__ounce_equivalents__in_oz_eq', 'Xylitol_in_g',\n",
       "       'Zinc_in_mg'],\n",
       "      dtype='object', length=195)"
      ]
     },
     "execution_count": 94,
     "metadata": {},
     "output_type": "execute_result"
    }
   ],
   "source": [
    "md.columns"
   ]
  },
  {
   "cell_type": "markdown",
   "metadata": {},
   "source": [
    "### Load microbiome data"
   ]
  },
  {
   "cell_type": "code",
   "execution_count": 80,
   "metadata": {},
   "outputs": [],
   "source": [
    "# Microbiome\n",
    "biom_path = 'data/vioscreen_aug2019.biom'\n",
    "bt = biom.load_table(biom_path)\n",
    "df = bt.to_dataframe(dense=True).transpose() #transposing the table"
   ]
  },
  {
   "cell_type": "markdown",
   "metadata": {},
   "source": [
    "### select the sample IDs shared between biom and metadata"
   ]
  },
  {
   "cell_type": "code",
   "execution_count": 82,
   "metadata": {},
   "outputs": [],
   "source": [
    "def common_member(a, b): \n",
    "    a_set = set(a) \n",
    "    b_set = set(b) \n",
    "    if (a_set & b_set): \n",
    "        print(len(a_set & b_set))\n",
    "    else: \n",
    "        print(\"No common elements\")"
   ]
  },
  {
   "cell_type": "code",
   "execution_count": 86,
   "metadata": {},
   "outputs": [
    {
     "name": "stdout",
     "output_type": "stream",
     "text": [
      "The shared samples between biom and metadata:  2927\n"
     ]
    }
   ],
   "source": [
    "shared_ids = list(set(df.index) & set(md['#SampleID'].astype('str')))\n",
    "n_shared = len(shared_ids)\n",
    "print('The shared samples between biom and metadata: ', str(n_shared))"
   ]
  },
  {
   "cell_type": "code",
   "execution_count": 87,
   "metadata": {},
   "outputs": [],
   "source": [
    "df_f = df[df.index.isin(shared_ids)]"
   ]
  },
  {
   "cell_type": "code",
   "execution_count": 88,
   "metadata": {},
   "outputs": [],
   "source": [
    "md_f = md[md['#SampleID'].isin(shared_ids)]"
   ]
  },
  {
   "cell_type": "code",
   "execution_count": 89,
   "metadata": {},
   "outputs": [
    {
     "data": {
      "text/plain": [
       "(2927, 20435)"
      ]
     },
     "execution_count": 89,
     "metadata": {},
     "output_type": "execute_result"
    }
   ],
   "source": [
    "df_f.shape"
   ]
  },
  {
   "cell_type": "code",
   "execution_count": 90,
   "metadata": {},
   "outputs": [
    {
     "data": {
      "text/plain": [
       "(2927, 195)"
      ]
     },
     "execution_count": 90,
     "metadata": {},
     "output_type": "execute_result"
    }
   ],
   "source": [
    "md_f.shape"
   ]
  },
  {
   "cell_type": "code",
   "execution_count": 4,
   "metadata": {},
   "outputs": [],
   "source": [
    "#null value\n",
    "#sample id match , microbiome table\n",
    "#mddat.age_years.fillna(mddat.age_years.mean(), inplace=True)\n",
    "#record sample id, delete the sample, remove the sample ids form the microbiome table\n",
    "#filter abnormal values in age data,  string in age_years column"
   ]
  },
  {
   "cell_type": "markdown",
   "metadata": {},
   "source": [
    "### filter sample ids that have NA values in the metadata"
   ]
  },
  {
   "cell_type": "code",
   "execution_count": 98,
   "metadata": {},
   "outputs": [
    {
     "data": {
      "text/plain": [
       "(2927, 195)"
      ]
     },
     "execution_count": 98,
     "metadata": {},
     "output_type": "execute_result"
    }
   ],
   "source": [
    "md_ff=md_f.dropna(subset=[target_field])\n",
    "ids=md_ff['#SampleID'].astype('str')\n",
    "md_ff.shape"
   ]
  },
  {
   "cell_type": "code",
   "execution_count": 102,
   "metadata": {},
   "outputs": [],
   "source": [
    "df_ff=df_f[df_f.index.isin(ids)]"
   ]
  },
  {
   "cell_type": "code",
   "execution_count": 142,
   "metadata": {},
   "outputs": [
    {
     "data": {
      "text/plain": [
       "RandomForestRegressor(bootstrap=True, ccp_alpha=0.0, criterion='mse',\n",
       "                      max_depth=2, max_features='auto', max_leaf_nodes=None,\n",
       "                      max_samples=None, min_impurity_decrease=0.0,\n",
       "                      min_impurity_split=None, min_samples_leaf=1,\n",
       "                      min_samples_split=2, min_weight_fraction_leaf=0.0,\n",
       "                      n_estimators=100, n_jobs=None, oob_score=False,\n",
       "                      random_state=0, verbose=0, warm_start=False)"
      ]
     },
     "execution_count": 142,
     "metadata": {},
     "output_type": "execute_result"
    }
   ],
   "source": [
    "# mddat['bmi'].isna().sum() # bmi has 87 null values\n",
    "# dataframe.columns['bmi'], pandas package toNumeric, errors = coerce \n",
    "# pd.to_numeric(mddat.columns['bmi'], errors='coerce')\n",
    "# mddat.bmi.fillna(mddat.bmi.mean(), inplace=True)\n",
    "#X and y , Train Test split\n",
    "X = df_ff\n",
    "y = md[target_field] \n",
    "X, y = make_regression(random_state=42)\n",
    "regr = RandomForestRegressor(max_depth=2, random_state=0)\n",
    "regr.fit(X, y)"
   ]
  },
  {
   "cell_type": "code",
   "execution_count": 143,
   "metadata": {},
   "outputs": [
    {
     "data": {
      "text/html": [
       "<div>\n",
       "<style scoped>\n",
       "    .dataframe tbody tr th:only-of-type {\n",
       "        vertical-align: middle;\n",
       "    }\n",
       "\n",
       "    .dataframe tbody tr th {\n",
       "        vertical-align: top;\n",
       "    }\n",
       "\n",
       "    .dataframe thead th {\n",
       "        text-align: right;\n",
       "    }\n",
       "</style>\n",
       "<table border=\"1\" class=\"dataframe\">\n",
       "  <thead>\n",
       "    <tr style=\"text-align: right;\">\n",
       "      <th></th>\n",
       "      <th>y</th>\n",
       "      <th>y_pred</th>\n",
       "    </tr>\n",
       "  </thead>\n",
       "  <tbody>\n",
       "    <tr>\n",
       "      <th>0</th>\n",
       "      <td>158.475848</td>\n",
       "      <td>52.977273</td>\n",
       "    </tr>\n",
       "    <tr>\n",
       "      <th>1</th>\n",
       "      <td>230.450395</td>\n",
       "      <td>188.291296</td>\n",
       "    </tr>\n",
       "    <tr>\n",
       "      <th>2</th>\n",
       "      <td>-135.108646</td>\n",
       "      <td>-104.330207</td>\n",
       "    </tr>\n",
       "    <tr>\n",
       "      <th>3</th>\n",
       "      <td>62.965428</td>\n",
       "      <td>42.223922</td>\n",
       "    </tr>\n",
       "    <tr>\n",
       "      <th>4</th>\n",
       "      <td>27.217813</td>\n",
       "      <td>82.765330</td>\n",
       "    </tr>\n",
       "  </tbody>\n",
       "</table>\n",
       "</div>"
      ],
      "text/plain": [
       "            y      y_pred\n",
       "0  158.475848   52.977273\n",
       "1  230.450395  188.291296\n",
       "2 -135.108646 -104.330207\n",
       "3   62.965428   42.223922\n",
       "4   27.217813   82.765330"
      ]
     },
     "execution_count": 143,
     "metadata": {},
     "output_type": "execute_result"
    }
   ],
   "source": [
    "y_pred = regr.predict(X)\n",
    "out=pd.DataFrame({\"y\": y, 'y_pred': y_pred})\n",
    "out.head()"
   ]
  },
  {
   "cell_type": "code",
   "execution_count": 144,
   "metadata": {},
   "outputs": [
    {
     "data": {
      "image/png": "[encoded data removed]",
      "text/plain": [
       "<Figure size 1000x800 with 1 Axes>"
      ]
     },
     "metadata": {
      "needs_background": "light"
     },
     "output_type": "display_data"
    }
   ],
   "source": [
    "plt.scatter(y, y_pred)\n",
    "plt.rcParams.update({'figure.figsize':(10,8), 'figure.dpi':100})\n",
    "plt.title('Simple Scatter plot')\n",
    "plt.xlabel('y')\n",
    "plt.ylabel('predicted y')\n",
    "plt.show()"
   ]
  },
  {
   "cell_type": "markdown",
   "metadata": {},
   "source": [
    "### Split the data sets from training and testing"
   ]
  },
  {
   "cell_type": "code",
   "execution_count": 140,
   "metadata": {},
   "outputs": [
    {
     "data": {
      "text/plain": [
       "(80, 100)"
      ]
     },
     "execution_count": 140,
     "metadata": {},
     "output_type": "execute_result"
    }
   ],
   "source": [
    "X_train.shape"
   ]
  },
  {
   "cell_type": "code",
   "execution_count": 141,
   "metadata": {},
   "outputs": [],
   "source": [
    "train_test_split?"
   ]
  },
  {
   "cell_type": "code",
   "execution_count": 148,
   "metadata": {},
   "outputs": [
    {
     "data": {
      "text/plain": [
       "RandomForestRegressor(bootstrap=True, ccp_alpha=0.0, criterion='mse',\n",
       "                      max_depth=2, max_features='auto', max_leaf_nodes=None,\n",
       "                      max_samples=None, min_impurity_decrease=0.0,\n",
       "                      min_impurity_split=None, min_samples_leaf=1,\n",
       "                      min_samples_split=2, min_weight_fraction_leaf=0.0,\n",
       "                      n_estimators=100, n_jobs=None, oob_score=False,\n",
       "                      random_state=0, verbose=0, warm_start=False)"
      ]
     },
     "execution_count": 148,
     "metadata": {},
     "output_type": "execute_result"
    }
   ],
   "source": [
    "X_train, X_test, y_train, y_test = train_test_split(X, y, test_size=0.20, random_state=42)\n",
    "X_train, y_train = make_regression(random_state=0)\n",
    "regr = RandomForestRegressor(max_depth=2, random_state=0)\n",
    "regr.fit(X_train, y_train)"
   ]
  },
  {
   "cell_type": "code",
   "execution_count": 149,
   "metadata": {},
   "outputs": [
    {
     "data": {
      "text/html": [
       "<div>\n",
       "<style scoped>\n",
       "    .dataframe tbody tr th:only-of-type {\n",
       "        vertical-align: middle;\n",
       "    }\n",
       "\n",
       "    .dataframe tbody tr th {\n",
       "        vertical-align: top;\n",
       "    }\n",
       "\n",
       "    .dataframe thead th {\n",
       "        text-align: right;\n",
       "    }\n",
       "</style>\n",
       "<table border=\"1\" class=\"dataframe\">\n",
       "  <thead>\n",
       "    <tr style=\"text-align: right;\">\n",
       "      <th></th>\n",
       "      <th>y_test</th>\n",
       "      <th>y_test_pred</th>\n",
       "    </tr>\n",
       "  </thead>\n",
       "  <tbody>\n",
       "    <tr>\n",
       "      <th>0</th>\n",
       "      <td>-65.662223</td>\n",
       "      <td>15.741930</td>\n",
       "    </tr>\n",
       "    <tr>\n",
       "      <th>1</th>\n",
       "      <td>-173.495191</td>\n",
       "      <td>-77.874623</td>\n",
       "    </tr>\n",
       "    <tr>\n",
       "      <th>2</th>\n",
       "      <td>34.016932</td>\n",
       "      <td>-44.142275</td>\n",
       "    </tr>\n",
       "    <tr>\n",
       "      <th>3</th>\n",
       "      <td>144.166719</td>\n",
       "      <td>55.197418</td>\n",
       "    </tr>\n",
       "    <tr>\n",
       "      <th>4</th>\n",
       "      <td>31.558761</td>\n",
       "      <td>26.332851</td>\n",
       "    </tr>\n",
       "  </tbody>\n",
       "</table>\n",
       "</div>"
      ],
      "text/plain": [
       "       y_test  y_test_pred\n",
       "0  -65.662223    15.741930\n",
       "1 -173.495191   -77.874623\n",
       "2   34.016932   -44.142275\n",
       "3  144.166719    55.197418\n",
       "4   31.558761    26.332851"
      ]
     },
     "execution_count": 149,
     "metadata": {},
     "output_type": "execute_result"
    }
   ],
   "source": [
    "#fitting\n",
    "y_test_pred = regr.predict(X_test)\n",
    "out=pd.DataFrame({\"y_test\": y_test, 'y_test_pred': y_test_pred})\n",
    "out.head()\n",
    "#a transpose issue !"
   ]
  },
  {
   "cell_type": "code",
   "execution_count": 150,
   "metadata": {},
   "outputs": [
    {
     "data": {
      "image/png": "[encoded data removed]",
      "text/plain": [
       "<Figure size 1000x800 with 1 Axes>"
      ]
     },
     "metadata": {
      "needs_background": "light"
     },
     "output_type": "display_data"
    }
   ],
   "source": [
    "plt.scatter(y_test, y_test_pred)\n",
    "plt.rcParams.update({'figure.figsize':(10,8), 'figure.dpi':100})\n",
    "plt.title('Simple Scatter plot')\n",
    "plt.xlabel('y_test')\n",
    "plt.ylabel('predicted y_test')\n",
    "plt.show()"
   ]
  },
  {
   "cell_type": "code",
   "execution_count": null,
   "metadata": {},
   "outputs": [],
   "source": []
  },
  {
   "cell_type": "code",
   "execution_count": null,
   "metadata": {},
   "outputs": [],
   "source": []
  }
 ],
 "metadata": {
  "kernelspec": {
   "display_name": "Python 3",
   "language": "python",
   "name": "python3"
  },
  "language_info": {
   "codemirror_mode": {
    "name": "ipython",
    "version": 3
   },
   "file_extension": ".py",
   "mimetype": "text/x-python",
   "name": "python",
   "nbconvert_exporter": "python",
   "pygments_lexer": "ipython3",
   "version": "3.6.7"
  }
 },
 "nbformat": 4,
 "nbformat_minor": 4
}
